{
  "cells": [
    {
      "cell_type": "markdown",
      "metadata": {
        "id": "view-in-github",
        "colab_type": "text"
      },
      "source": [
        "<a href=\"https://colab.research.google.com/github/blickystained/Python-1/blob/main/Assignment_II.ipynb\" target=\"_parent\"><img src=\"https://colab.research.google.com/assets/colab-badge.svg\" alt=\"Open In Colab\"/></a>"
      ]
    },
    {
      "cell_type": "markdown",
      "metadata": {
        "id": "mqKVIuY-mxNU"
      },
      "source": [
        "# Problem Set 2"
      ]
    },
    {
      "cell_type": "markdown",
      "metadata": {
        "id": "-RSYW1jVm08n"
      },
      "source": [
        "## Assignment 1: Quality Control (7 points)\n",
        "\n",
        "A quality control manager would like to find the average weight of a list of weights. Prior experience indicates that the first two measures are atypical, and the practice is to exclude these from the average calculation.\n",
        "\n",
        "Write a program that calculates the average of a list of numbers that given as inputs from the user, excluding the first two values.\n",
        "\n",
        "For your program, you must define and use the following functions:\n",
        "- `getValues(n)`: Prompt the user for `n` values, returns the list\n",
        "- `calcAverage(alist)`: Calculates the average from the list"
      ]
    },
    {
      "cell_type": "code",
      "execution_count": null,
      "metadata": {
        "colab": {
          "base_uri": "https://localhost:8080/"
        },
        "id": "AqbgJkgNmvQw",
        "outputId": "146cc530-a0a2-46aa-a35b-89decf26fee9"
      },
      "outputs": [
        {
          "name": "stdout",
          "output_type": "stream",
          "text": [
            "enter # of weights to be added to the list 6\n",
            "Enter a weight: 1\n",
            "Enter a weight: 2\n",
            "Enter a weight: 3\n",
            "Enter a weight: 4\n",
            "Enter a weight: 5\n",
            "Enter a weight: 6\n",
            "4.5\n"
          ]
        }
      ],
      "source": [
        "def getValues(n):\n",
        "  weights = []\n",
        "  if n < 3:\n",
        "    print(\"not enuf values\")\n",
        "    return None\n",
        "  else:\n",
        "    for i in range (n):\n",
        "      weight = float(input(\"Enter a weight: \"))\n",
        "      weights.append(weight)\n",
        "    return weights[2:]\n",
        "\n",
        "\n",
        "\n",
        "\n",
        "\n",
        "\n"
      ]
    },
    {
      "cell_type": "markdown",
      "metadata": {
        "id": "hnuWItI7VJLt"
      },
      "source": []
    },
    {
      "cell_type": "markdown",
      "metadata": {
        "id": "SV6XBxMxRxdq"
      },
      "source": []
    },
    {
      "cell_type": "markdown",
      "metadata": {
        "id": "QFO0Kzx8ncnv"
      },
      "source": [
        "## Assignment 2: Country Statistics Lookup-Multiple Measures (6 points)\n",
        "\n",
        "Assume a program begins with the statement:\n",
        "\n",
        "```python\n",
        "allData = { # dictionary of values for countries\n",
        "    'US': {'pop':325.7, 'gdp': 19.39, 'ccy': 'USD', 'fx':  1.0},\n",
        "    'CA': {'pop': 36.5, 'gdp':  1.65, 'ccy': 'CAD', 'fx':  1.35},\n",
        "    'MX': {'pop':129.2, 'gdp':  1.15, 'ccy': 'MXN', 'fx': 19.68}\n",
        "    }\n",
        "```\n",
        "\n",
        "Write subsequent statements that (in a loop) prompt the user for a country code (`US`, `CA`, or `MX`), then prompt for a measure name (`pop`, `gdp`, `ccy`, or `fx`), then look up in the above dictionary for the corresponding value, and display it.\n",
        "\n",
        "Example run:\n",
        "```\n",
        "Please enter a country code: CA\n",
        "Please enter a statistic: pop\n",
        "CA pop = 36.5\n",
        "```\n",
        "\n",
        "Your program should handle the cases where a user-entered country code or measure name is not found."
      ]
    },
    {
      "cell_type": "code",
      "execution_count": 4,
      "metadata": {
        "id": "NZFjRINKowEW",
        "colab": {
          "base_uri": "https://localhost:8080/"
        },
        "outputId": "3e5d8f94-42bf-48e7-d169-ae1351faa6e1"
      },
      "outputs": [
        {
          "name": "stdout",
          "output_type": "stream",
          "text": [
            "Please enter a country : US\n",
            "Please enter a stat (pop, gdp, ccy, fx): gdp\n",
            "US gdp = 19.39\n",
            "Please enter a country : EXIT\n"
          ]
        }
      ],
      "source": [
        "allData = {\n",
        "    'US': {'pop': 325.7, 'gdp': 19.39, 'ccy': 'USD', 'fx': 1.0},\n",
        "    'CA': {'pop': 36.5, 'gdp': 1.65, 'ccy': 'CAD', 'fx': 1.35},\n",
        "    'MX': {'pop': 129.2, 'gdp': 1.15, 'ccy': 'MXN', 'fx': 19.68}\n",
        "}\n",
        "\n",
        "def get_country_data():\n",
        "    while True:\n",
        "        country_num = input(\"Please enter a country : \").upper()\n",
        "        if country_num == 'EXIT':\n",
        "            break\n",
        "\n",
        "        if country_num not in allData:\n",
        "            print(\"Not found\")\n",
        "            continue\n",
        "\n",
        "        stat = input(\"Please enter a stat (pop, gdp, ccy, fx): \").lower()\n",
        "        if stat not in allData[country_num]:\n",
        "            print(\"Not found\")\n",
        "\n",
        "        result = allData[country_num][stat]\n",
        "        print(f\"{country_num} {stat} = {result}\")\n",
        "\n",
        "get_country_data()"
      ]
    },
    {
      "cell_type": "code",
      "source": [],
      "metadata": {
        "id": "7JAZbA83hMOT"
      },
      "execution_count": null,
      "outputs": []
    },
    {
      "cell_type": "code",
      "source": [],
      "metadata": {
        "id": "VKGfR08byxGK"
      },
      "execution_count": null,
      "outputs": []
    },
    {
      "cell_type": "markdown",
      "metadata": {
        "id": "GjaUFrnfpKFf"
      },
      "source": [
        "## Assignment 3: Parking Garage (6 points)\n",
        "\n",
        "Write a program to compute the fee for parking in a garage for a number of hours.\n",
        "\n",
        "The program should:\n",
        "- Prompt the user for how many hours parked\n",
        "- Calculate the fee based on the following rules:\n",
        "  - $2.50/hour\n",
        "\n",
        "  - minimum fee is $6.00\n",
        "\n",
        "  - maximum fee is $20.00\n",
        "- Print the result\n",
        "\n",
        "For your program, define and use the following two functions:\n",
        "```python\n",
        "# use input() to prompt for the # of hours parked, return this value\n",
        "def getParkingHours()\n",
        "\n",
        "# takes as input hours (a number), returns the parking fee\n",
        "def calcParkingFee()\n",
        "```"
      ]
    },
    {
      "cell_type": "code",
      "execution_count": 14,
      "metadata": {
        "colab": {
          "base_uri": "https://localhost:8080/"
        },
        "id": "5ha4O3V5pwNN",
        "outputId": "5b58ca6f-d487-499a-a284-12995cfc7e04"
      },
      "outputs": [
        {
          "output_type": "stream",
          "name": "stdout",
          "text": [
            "Hours Parked?: 3\n",
            "Hours: 3 Fee: $7.50\n"
          ]
        }
      ],
      "source": [
        "def getParkingHours():\n",
        "    while True:\n",
        "        try:\n",
        "            hours = int(input(\"Hours Parked?: \"))\n",
        "            if hours >= 0:\n",
        "                return hours\n",
        "            else:\n",
        "                print(\"ok thats not gonna work try again\")\n",
        "        except ValueError:\n",
        "            print(\"Invalid input. Please enter a whole number.\")\n",
        "\n",
        "\n",
        "def calcParkingFee(hours):\n",
        "    fee_per_hour = 2.50\n",
        "    minimum_fee = 6.00\n",
        "    maximum_fee = 20.00\n",
        "\n",
        "\n",
        "    fee = hours * fee_per_hour\n",
        "\n",
        "    if fee < minimum_fee:\n",
        "        fee = minimum_fee\n",
        "\n",
        "    if fee > maximum_fee:\n",
        "        fee = maximum_fee\n",
        "\n",
        "    return fee\n",
        "\n",
        "def result():\n",
        "    hours = getParkingHours()\n",
        "    fee = calcParkingFee(hours)\n",
        "    print(f\"Hours: {hours} Fee: ${fee:.2f}\")\n",
        "\n",
        "result()"
      ]
    },
    {
      "cell_type": "markdown",
      "metadata": {
        "id": "gipBObe5qm-2"
      },
      "source": [
        "## Assignment 4: Tuition (6 points)\n",
        "\n",
        "A college charges tuition according to the following:\n",
        "- 12 or more credits: $20,000/semester\n",
        "\n",
        "- 1-11 credits: $1,200 + $1,700 per credit\n",
        "\n",
        "Write a program that prompts the user for a number of credits and determines and displays the tuition for the semester. As part of your program, define and use the following function:\n",
        "```python\n",
        "def calcTuition(credits)\n",
        "```\n",
        "The function returns the tuition for a given number of credits"
      ]
    },
    {
      "cell_type": "code",
      "execution_count": 17,
      "metadata": {
        "id": "BPcn9ywzrL8y",
        "colab": {
          "base_uri": "https://localhost:8080/"
        },
        "outputId": "89025557-1028-4ea2-fa42-deb56a844210"
      },
      "outputs": [
        {
          "output_type": "stream",
          "name": "stdout",
          "text": [
            "# of credits?? 3\n",
            "Credits = 3 Tuition for Credits = $6300\n"
          ]
        }
      ],
      "source": [
        "def calcTuition(credits):\n",
        "    if credits >= 12:\n",
        "        return 20000\n",
        "    else:\n",
        "        return 1200 + 1700 * credits\n",
        "\n",
        "def fun():\n",
        "    while True:\n",
        "        try:\n",
        "            credits = int(input(\"# of credits?? \"))\n",
        "            if credits < 0:\n",
        "                print(\"enter a positive number of credits.\")\n",
        "            else:\n",
        "                break\n",
        "        except ValueError:\n",
        "            print(\"enter a whole number.\")\n",
        "\n",
        "    tuition = calcTuition(credits)\n",
        "\n",
        "    print(f\"Credits = {credits} Tuition for Credits = ${tuition}\")\n",
        "\n",
        "fun()"
      ]
    }
  ],
  "metadata": {
    "colab": {
      "provenance": [],
      "include_colab_link": true
    },
    "kernelspec": {
      "display_name": "Python 3",
      "name": "python3"
    },
    "language_info": {
      "name": "python"
    }
  },
  "nbformat": 4,
  "nbformat_minor": 0
}