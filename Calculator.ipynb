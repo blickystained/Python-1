{
  "cells": [
    {
      "cell_type": "markdown",
      "metadata": {
        "id": "view-in-github",
        "colab_type": "text"
      },
      "source": [
        "<a href=\"https://colab.research.google.com/github/blickystained/Python-1/blob/main/Calculator.ipynb\" target=\"_parent\"><img src=\"https://colab.research.google.com/assets/colab-badge.svg\" alt=\"Open In Colab\"/></a>"
      ]
    },
    {
      "cell_type": "code",
      "execution_count": null,
      "metadata": {
        "colab": {
          "background_save": true,
          "base_uri": "https://localhost:8080/"
        },
        "id": "9NTuhtBpqV_d",
        "outputId": "cb8ce6b0-8466-4ce5-e610-5d8a208f680e"
      },
      "outputs": [
        {
          "name": "stdout",
          "output_type": "stream",
          "text": [
            "7.0\n",
            "8.0\n"
          ]
        }
      ],
      "source": [
        "\n",
        "while True:\n",
        "\n",
        "\n",
        "  x = float(input(\"Choose NUM 1: \"))\n",
        "  y = input (\"Choose Operator: \")\n",
        "  z = float(input(\"Choose Second Number: \"))\n",
        "  if y == (\"+\"):\n",
        "    print (x+z)\n",
        "  if y == (\"*\"):\n",
        "    print (x*z)\n",
        "  if y == (\"-\"):\n",
        "    print (x-z)\n",
        "  if y== (\"/\"):\n",
        "    print(x/z)\n",
        "  fin = input(\"Are u done (Y/N): \")\n",
        "  if fin ==(\"Y\"):\n",
        "    break\n",
        "\n",
        "\n",
        "\n"
      ]
    },
    {
      "cell_type": "code",
      "execution_count": null,
      "metadata": {
        "id": "vg9ahC9xFEwp"
      },
      "outputs": [],
      "source": []
    },
    {
      "cell_type": "code",
      "execution_count": null,
      "metadata": {
        "id": "ZtV9PPiXFD5g"
      },
      "outputs": [],
      "source": []
    }
  ],
  "metadata": {
    "colab": {
      "provenance": [],
      "authorship_tag": "ABX9TyM4DmQsTcfwFN2+vyCorA1M",
      "include_colab_link": true
    },
    "kernelspec": {
      "display_name": "Python 3",
      "name": "python3"
    },
    "language_info": {
      "name": "python"
    }
  },
  "nbformat": 4,
  "nbformat_minor": 0
}