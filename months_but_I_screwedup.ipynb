{
  "nbformat": 4,
  "nbformat_minor": 0,
  "metadata": {
    "colab": {
      "provenance": [],
      "authorship_tag": "ABX9TyOUjxkvrLkkeQpD2OaMHfOn",
      "include_colab_link": true
    },
    "kernelspec": {
      "name": "python3",
      "display_name": "Python 3"
    },
    "language_info": {
      "name": "python"
    }
  },
  "cells": [
    {
      "cell_type": "markdown",
      "metadata": {
        "id": "view-in-github",
        "colab_type": "text"
      },
      "source": [
        "<a href=\"https://colab.research.google.com/github/blickystained/Python-1/blob/main/months_but_I_screwedup.ipynb\" target=\"_parent\"><img src=\"https://colab.research.google.com/assets/colab-badge.svg\" alt=\"Open In Colab\"/></a>"
      ]
    },
    {
      "cell_type": "code",
      "execution_count": 3,
      "metadata": {
        "colab": {
          "base_uri": "https://localhost:8080/",
          "height": 105
        },
        "id": "tOh3xh1czmAW",
        "outputId": "6e8f8e3d-959f-4bde-efd9-d15934c8b904"
      },
      "outputs": [
        {
          "output_type": "error",
          "ename": "SyntaxError",
          "evalue": "invalid syntax (<ipython-input-3-f266ab4c354d>, line 1)",
          "traceback": [
            "\u001b[0;36m  File \u001b[0;32m\"<ipython-input-3-f266ab4c354d>\"\u001b[0;36m, line \u001b[0;32m1\u001b[0m\n\u001b[0;31m    months = [1: \"Jan\", 2: \"Feb\", 3: \"March\", 4: \"Apr\"]\u001b[0m\n\u001b[0m               ^\u001b[0m\n\u001b[0;31mSyntaxError\u001b[0m\u001b[0;31m:\u001b[0m invalid syntax\n"
          ]
        }
      ],
      "source": [
        "months = [1: \"Jan\", 2: \"Feb\", 3: \"March\", 4: \"Apr\"]\n",
        "\n",
        "numbers = [1,2,3,4,5,6,7,8,9,10,11,12]\n",
        "\n",
        "print(month[1])\n",
        "\n",
        "for num in numbers:\n",
        "  Month[num] = names[num-1]\n",
        "print(months)\n"
      ]
    }
  ]
}