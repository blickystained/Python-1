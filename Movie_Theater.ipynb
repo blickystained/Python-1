{
  "nbformat": 4,
  "nbformat_minor": 0,
  "metadata": {
    "colab": {
      "provenance": [],
      "authorship_tag": "ABX9TyOg/Yaj4Gx8Bx3rxL4lllQU",
      "include_colab_link": true
    },
    "kernelspec": {
      "name": "python3",
      "display_name": "Python 3"
    },
    "language_info": {
      "name": "python"
    }
  },
  "cells": [
    {
      "cell_type": "markdown",
      "metadata": {
        "id": "view-in-github",
        "colab_type": "text"
      },
      "source": [
        "<a href=\"https://colab.research.google.com/github/blickystained/Python-1/blob/main/Movie_Theater.ipynb\" target=\"_parent\"><img src=\"https://colab.research.google.com/assets/colab-badge.svg\" alt=\"Open In Colab\"/></a>"
      ]
    },
    {
      "cell_type": "code",
      "execution_count": 3,
      "metadata": {
        "colab": {
          "base_uri": "https://localhost:8080/"
        },
        "id": "AzzdlDcngFOm",
        "outputId": "0c4c5032-e6d8-4a67-8a42-9396047bd612"
      },
      "outputs": [
        {
          "output_type": "stream",
          "name": "stdout",
          "text": [
            "0 $0.0\n",
            "25 $-25.0\n",
            "50 $-50.0\n",
            "75 $-75.0\n",
            "100 $-100.0\n",
            "125 $-125.0\n",
            "150 $-150.0\n",
            "175 $-175.0\n",
            "200 $-200.0\n"
          ]
        }
      ],
      "source": [
        "init_attendees = 20\n",
        "fixed_cost = 200\n",
        "\n",
        "for advertising in range(0, 201, 25):\n",
        "  attendies = float(2*round(advertising**0.05)+ init_attendees)\n",
        "  profit = float((init_attendees * 10) - advertising - fixed_cost)\n",
        "  print(f'{advertising} ${profit}')\n"
      ]
    },
    {
      "cell_type": "code",
      "source": [],
      "metadata": {
        "id": "N2kUFZfig_ZB"
      },
      "execution_count": null,
      "outputs": []
    }
  ]
}