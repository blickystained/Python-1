{
  "nbformat": 4,
  "nbformat_minor": 0,
  "metadata": {
    "colab": {
      "provenance": [],
      "authorship_tag": "ABX9TyN+hWU12HbXPSqf4fJw68mX",
      "include_colab_link": true
    },
    "kernelspec": {
      "name": "python3",
      "display_name": "Python 3"
    },
    "language_info": {
      "name": "python"
    }
  },
  "cells": [
    {
      "cell_type": "markdown",
      "metadata": {
        "id": "view-in-github",
        "colab_type": "text"
      },
      "source": [
        "<a href=\"https://colab.research.google.com/github/blickystained/Python-1/blob/main/List_Creator.ipynb\" target=\"_parent\"><img src=\"https://colab.research.google.com/assets/colab-badge.svg\" alt=\"Open In Colab\"/></a>"
      ]
    },
    {
      "cell_type": "code",
      "execution_count": null,
      "metadata": {
        "colab": {
          "base_uri": "https://localhost:8080/"
        },
        "id": "UiE_7N7sED78",
        "outputId": "cca3e212-9215-4c9d-d0e8-8fee974aa8cb"
      },
      "outputs": [
        {
          "output_type": "stream",
          "name": "stdout",
          "text": [
            "Enter a Value: 10\n",
            "Enter a Value: 0\n",
            "[10]\n"
          ]
        }
      ],
      "source": [
        "\n",
        "L = []\n",
        "x = int(input('Enter a Value: '))\n",
        "while x != 0:\n",
        "  L.append(x)\n",
        "  x = int(input('Enter a Value: '))\n",
        "print(L)\n",
        "\n"
      ]
    },
    {
      "cell_type": "code",
      "source": [],
      "metadata": {
        "id": "12kdLWkuElq0"
      },
      "execution_count": null,
      "outputs": []
    }
  ]
}