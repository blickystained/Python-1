{
  "nbformat": 4,
  "nbformat_minor": 0,
  "metadata": {
    "colab": {
      "provenance": [],
      "authorship_tag": "ABX9TyPdSnZHNvUEF9kk1zYXcQdr",
      "include_colab_link": true
    },
    "kernelspec": {
      "name": "python3",
      "display_name": "Python 3"
    },
    "language_info": {
      "name": "python"
    }
  },
  "cells": [
    {
      "cell_type": "markdown",
      "metadata": {
        "id": "view-in-github",
        "colab_type": "text"
      },
      "source": [
        "<a href=\"https://colab.research.google.com/github/blickystained/Python-1/blob/main/Index_Errors.ipynb\" target=\"_parent\"><img src=\"https://colab.research.google.com/assets/colab-badge.svg\" alt=\"Open In Colab\"/></a>"
      ]
    },
    {
      "cell_type": "code",
      "execution_count": 7,
      "metadata": {
        "colab": {
          "base_uri": "https://localhost:8080/"
        },
        "id": "lr7TaPxxLsrT",
        "outputId": "ac28eab6-0fbe-41a0-af18-f851fc8da995"
      },
      "outputs": [
        {
          "output_type": "stream",
          "name": "stdout",
          "text": [
            "Enter index: hi\n",
            "Indexes Must be int\n",
            "this will be displayed always\n"
          ]
        }
      ],
      "source": [
        "I = [1,2,3,4,5,6]\n",
        "\n",
        "try:\n",
        "  idx = int(input('Enter index: '))\n",
        "  print(I[idx])\n",
        "except IndexError:\n",
        "  print('Index value out of bounds')\n",
        "except ValueError:\n",
        "  print('Indexes Must be int')\n",
        "else:\n",
        "  print('Item found!')\n",
        "finally:\n",
        "  print('this will be displayed always')\n"
      ]
    }
  ]
}