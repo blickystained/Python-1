{
  "nbformat": 4,
  "nbformat_minor": 0,
  "metadata": {
    "colab": {
      "provenance": [],
      "authorship_tag": "ABX9TyNISfpRfmhslISE0ZtteR5a",
      "include_colab_link": true
    },
    "kernelspec": {
      "name": "python3",
      "display_name": "Python 3"
    },
    "language_info": {
      "name": "python"
    }
  },
  "cells": [
    {
      "cell_type": "markdown",
      "metadata": {
        "id": "view-in-github",
        "colab_type": "text"
      },
      "source": [
        "<a href=\"https://colab.research.google.com/github/blickystained/Python-1/blob/main/What_animal%3F.ipynb\" target=\"_parent\"><img src=\"https://colab.research.google.com/assets/colab-badge.svg\" alt=\"Open In Colab\"/></a>"
      ]
    },
    {
      "cell_type": "code",
      "execution_count": null,
      "metadata": {
        "id": "yUWyIPOUOosV"
      },
      "outputs": [],
      "source": [
        "class Animal:\n",
        "  def__init__(self, legs):\n",
        "    print('Animal createed')\n",
        "    self.legs = legs\n",
        "  def whoAmI(self):\n",
        "    print('I  am an animal')\n",
        "\n",
        "  class Bird(Animal):\n",
        "    def__init__(self, legs, wings):\n",
        "      super().__init__(legs)\n",
        "      self.wings = wings\n",
        "    def fly(self):\n",
        "      print('Birds can fly')\n",
        "\n",
        "\n",
        "  a = Animal(4)\n",
        "  b = Bird(2)\n",
        "  a.fly()"
      ]
    }
  ]
}