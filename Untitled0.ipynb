{
  "nbformat": 4,
  "nbformat_minor": 0,
  "metadata": {
    "colab": {
      "provenance": [],
      "authorship_tag": "ABX9TyPyzQgS9z9hEG6DlIBydGrj",
      "include_colab_link": true
    },
    "kernelspec": {
      "name": "python3",
      "display_name": "Python 3"
    },
    "language_info": {
      "name": "python"
    }
  },
  "cells": [
    {
      "cell_type": "markdown",
      "metadata": {
        "id": "view-in-github",
        "colab_type": "text"
      },
      "source": [
        "<a href=\"https://colab.research.google.com/github/blickystained/Python-1/blob/main/Untitled0.ipynb\" target=\"_parent\"><img src=\"https://colab.research.google.com/assets/colab-badge.svg\" alt=\"Open In Colab\"/></a>"
      ]
    },
    {
      "cell_type": "code",
      "execution_count": 25,
      "metadata": {
        "colab": {
          "base_uri": "https://localhost:8080/"
        },
        "id": "9NTuhtBpqV_d",
        "outputId": "eacd7cb7-6ddd-4206-9985-a3b0d22a5ceb"
      },
      "outputs": [
        {
          "output_type": "stream",
          "name": "stdout",
          "text": [
            "Choose NUM 1: 16\n",
            "Choose Operator: +\n",
            "Choose Second Number: 7\n",
            "23.0\n"
          ]
        }
      ],
      "source": [
        "\n",
        "while True:\n",
        "\n",
        "\n",
        "  x = float(input(\"Choose NUM 1: \"))\n",
        "  y = input (\"Choose Operator: \")\n",
        "  z = float(input(\"Choose Second Number: \"))\n",
        "  if y == (\"+\"):\n",
        "    print (x+z)\n",
        "  if y == (\"*\"):\n",
        "    print (x*z)\n",
        "  if y == (\"-\"):\n",
        "    print (x-z)\n",
        "  if y== (\"/\"):\n",
        "    print(x/z)16\n",
        "  break\n",
        "\n",
        "\n",
        "\n"
      ]
    }
  ]
}