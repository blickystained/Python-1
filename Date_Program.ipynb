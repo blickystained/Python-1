{
  "nbformat": 4,
  "nbformat_minor": 0,
  "metadata": {
    "colab": {
      "provenance": [],
      "authorship_tag": "ABX9TyPIHb+AgJ1J5gRik8Gta3Bq",
      "include_colab_link": true
    },
    "kernelspec": {
      "name": "python3",
      "display_name": "Python 3"
    },
    "language_info": {
      "name": "python"
    }
  },
  "cells": [
    {
      "cell_type": "markdown",
      "metadata": {
        "id": "view-in-github",
        "colab_type": "text"
      },
      "source": [
        "<a href=\"https://colab.research.google.com/github/blickystained/Python-1/blob/main/Date_Program.ipynb\" target=\"_parent\"><img src=\"https://colab.research.google.com/assets/colab-badge.svg\" alt=\"Open In Colab\"/></a>"
      ]
    },
    {
      "cell_type": "code",
      "execution_count": 2,
      "metadata": {
        "id": "rZQWFzSy_Gwq",
        "colab": {
          "base_uri": "https://localhost:8080/"
        },
        "outputId": "3fe9228c-a734-43c0-dff8-225aa209b757"
      },
      "outputs": [
        {
          "output_type": "stream",
          "name": "stdout",
          "text": [
            "Enter Date (MM/DD/YYYY):01/10/2003\n",
            "The month is:\n",
            "01\n",
            "The Day is:\n",
            "10\n",
            "The year is:\n",
            "2003\n"
          ]
        }
      ],
      "source": [
        "s = input(\"Enter Date (MM/DD/YYYY):\")\n",
        "if \"/\" in s:\n",
        "  month = s[:2]\n",
        "  day = s[3:5]\n",
        "  year = s[6:]\n",
        "  print(\"The month is:\")\n",
        "  print (month)\n",
        "  print (\"The Day is:\")\n",
        "  print (day)\n",
        "  print (\"The year is:\")\n",
        "  print (year)\n",
        "\n",
        "else:\n",
        "  print (\"use a slash when inputing the date.\")"
      ]
    }
  ]
}