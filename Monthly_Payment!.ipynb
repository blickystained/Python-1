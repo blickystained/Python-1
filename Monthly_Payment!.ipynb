{
  "nbformat": 4,
  "nbformat_minor": 0,
  "metadata": {
    "colab": {
      "provenance": [],
      "authorship_tag": "ABX9TyMMclsMo/ApSGCAY7W1PqWT",
      "include_colab_link": true
    },
    "kernelspec": {
      "name": "python3",
      "display_name": "Python 3"
    },
    "language_info": {
      "name": "python"
    }
  },
  "cells": [
    {
      "cell_type": "markdown",
      "metadata": {
        "id": "view-in-github",
        "colab_type": "text"
      },
      "source": [
        "<a href=\"https://colab.research.google.com/github/blickystained/Python-1/blob/main/Monthly_Payment!.ipynb\" target=\"_parent\"><img src=\"https://colab.research.google.com/assets/colab-badge.svg\" alt=\"Open In Colab\"/></a>"
      ]
    },
    {
      "cell_type": "code",
      "execution_count": 28,
      "metadata": {
        "colab": {
          "base_uri": "https://localhost:8080/"
        },
        "id": "QsvmbsjVaWHs",
        "outputId": "0134459e-b185-419b-b8ef-dc163228884d"
      },
      "outputs": [
        {
          "output_type": "stream",
          "name": "stdout",
          "text": [
            "100000.0000776048\n"
          ]
        }
      ],
      "source": [
        "class Mortgage:\n",
        "  def __init__(self, amount, maturity, interest):\n",
        "    self.amount = amount\n",
        "    self.maturity = maturity\n",
        "    self.interest = interest\n",
        "\n",
        "\n",
        "  def payment(self):\n",
        "\n",
        "    b = m.amount\n",
        "    n = m.maturity * 12\n",
        "    r = m.interest / 100\n",
        "    A = b * ((1+r)**n) / ((1+r)**n - 1)\n",
        "    print(A)\n",
        "    return A\n",
        "\n",
        "m = Mortgage(100000, 30, 6)\n",
        "answer = m.payment()\n",
        "\n",
        "\n",
        "\n",
        "\n"
      ]
    }
  ]
}