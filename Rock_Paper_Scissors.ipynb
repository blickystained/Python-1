{
  "nbformat": 4,
  "nbformat_minor": 0,
  "metadata": {
    "colab": {
      "provenance": [],
      "authorship_tag": "ABX9TyMJbdlWfJQ8YpOZ8gUvQCXV",
      "include_colab_link": true
    },
    "kernelspec": {
      "name": "python3",
      "display_name": "Python 3"
    },
    "language_info": {
      "name": "python"
    }
  },
  "cells": [
    {
      "cell_type": "markdown",
      "metadata": {
        "id": "view-in-github",
        "colab_type": "text"
      },
      "source": [
        "<a href=\"https://colab.research.google.com/github/blickystained/Python-1/blob/main/Rock_Paper_Scissors.ipynb\" target=\"_parent\"><img src=\"https://colab.research.google.com/assets/colab-badge.svg\" alt=\"Open In Colab\"/></a>"
      ]
    },
    {
      "cell_type": "code",
      "execution_count": null,
      "metadata": {
        "colab": {
          "base_uri": "https://localhost:8080/"
        },
        "id": "C29B3pa1MZGP",
        "outputId": "26f12249-24f5-4fce-8967-d391c7397cb5"
      },
      "outputs": [
        {
          "output_type": "stream",
          "name": "stdout",
          "text": [
            "Enter your choice (rock, paper, or scissors): paper\n",
            "You chose: paper\n",
            "Computer chose: scissors\n",
            "Computer wins!\n",
            "Would you like to keep playing?(Y/N): n\n",
            "gg ez\n"
          ]
        }
      ],
      "source": [
        "import random\n",
        "\n",
        "keep_playing = \"Y\"\n",
        "while keep_playing == \"Y\":\n",
        "\n",
        "  user_choice = input(\"Enter your choice (rock, paper, or scissors): \")\n",
        "  computer_choice = random.choice([\"rock\", \"paper\", \"scissors\"])\n",
        "\n",
        "  print(f\"You chose: {user_choice}\")\n",
        "  print(f\"Computer chose: {computer_choice}\")\n",
        "\n",
        "  if user_choice == computer_choice:\n",
        "      print(\"It's a tie!\")\n",
        "  elif (\n",
        "      (user_choice == \"rock\" and computer_choice == \"scissors\") or\n",
        "      (user_choice == \"paper\" and computer_choice == \"rock\") or\n",
        "      (user_choice == \"scissors\" and computer_choice == \"paper\")\n",
        "  ):\n",
        "      print(\"You win!\")\n",
        "  else:\n",
        "      print(\"Computer wins!\")\n",
        "\n",
        "  keep_playing = input(\"Would you like to keep playing?(Y/N): \")\n",
        "\n",
        "else:\n",
        "  print (\"Lmao u suck at rock paper scissors uninstall\")"
      ]
    },
    {
      "cell_type": "markdown",
      "source": [],
      "metadata": {
        "id": "8wH6ckkmMr1g"
      }
    }
  ]
}